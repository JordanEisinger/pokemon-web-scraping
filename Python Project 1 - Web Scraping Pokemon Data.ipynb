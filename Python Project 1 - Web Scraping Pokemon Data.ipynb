{
 "cells": [
  {
   "cell_type": "markdown",
   "id": "14022e5b",
   "metadata": {},
   "source": [
    "### Notes\n",
    "Start Date: 11/04/2021 <br/>\n",
    "Last Updated Date: 11/16/2021 <br/>\n",
    "Author: Jordan Eisinger <br/>\n",
    "Source: https://obrunet.github.io/pythonic%20ideas/Pokemon_database/ <br/>\n",
    "Web Scrape: https://pokemondb.net/"
   ]
  },
  {
   "cell_type": "markdown",
   "id": "9cd8dbde",
   "metadata": {},
   "source": [
    "### Import Libraries"
   ]
  },
  {
   "cell_type": "code",
   "execution_count": 4,
   "id": "9a5deb83",
   "metadata": {},
   "outputs": [],
   "source": [
    "# Install modules\n",
    "# !pip install requests\n",
    "# !pip install pickle\n",
    "# !pip install html5lib\n",
    "# !pip install bs4"
   ]
  },
  {
   "cell_type": "code",
   "execution_count": 6,
   "id": "8a1857f4",
   "metadata": {},
   "outputs": [],
   "source": [
    "# Import libraries\n",
    "import os, requests, pickle, html5lib\n",
    "from bs4 import BeautifulSoup"
   ]
  },
  {
   "cell_type": "code",
   "execution_count": 7,
   "id": "7f69f7d3",
   "metadata": {},
   "outputs": [],
   "source": [
    "# Define file constants\n",
    "BASE_URL = 'https://pokemondb.net'\n",
    "NEXT_URL = '/pokedex/national'\n",
    "FILE_NAME = 'scraped_pokemon_page.pickle'"
   ]
  },
  {
   "cell_type": "markdown",
   "id": "5a5b0e7d",
   "metadata": {},
   "source": [
    "### Define Functions/Methods"
   ]
  },
  {
   "cell_type": "code",
   "execution_count": 3,
   "id": "e3e89153",
   "metadata": {},
   "outputs": [],
   "source": [
    "# Step 1 - General web page scrape and create data file\n",
    "def scrape_general_page(base_url):\n",
    "    \"\"\"Scrape the web page with general info on all Pokemon; if succeed, write a binary file for later use\n",
    "    receive a URL - return request's result \n",
    "    \"\"\"\n",
    "    if not os.path.exists(file_name):\n",
    "        # http request data\n",
    "        result = requests.get(base_url + \"/pokedex/national\")\n",
    "        # error handling: if web page is valid then code runs; if not, returns error message\n",
    "        assert result.status_code == 200, print(f'Attempt to retrieve web page failed - result code {result.status_code}')\n",
    "        # opens a file for writing ('w') and is binary ('b'), also created a file\n",
    "        with open(file_name, 'wb') as f:\n",
    "            # used for dealing with binary files; serializes data (turns it into bytes) to open file document\n",
    "            pickle.dump(result, f)\n",
    "    else:\n",
    "        # opens a file for reading ('r') and is binary ('b'), does not create a file\n",
    "        with open(file_name, 'rb') as f:\n",
    "            # reads the serialized file\n",
    "            result = pickle.load(f)\n",
    "    return result\n",
    "\n",
    "# Calls method\n",
    "# scrape_general_page(BASE_URL)"
   ]
  },
  {
   "cell_type": "code",
   "execution_count": 4,
   "id": "af3451ba",
   "metadata": {},
   "outputs": [],
   "source": [
    "# Step 2 - Pull data from HTML file and put into easier to work with format\n",
    "def create_bs4_object(result):\n",
    "    \"\"\"Receive a request's result & returns a created bs4 object for pasring info\"\"\"\n",
    "    return BeautifulSoup(result.content, 'html5lib')\n",
    "\n",
    "# Calls method\n",
    "# create_bs4_object(result)"
   ]
  },
  {
   "cell_type": "code",
   "execution_count": 5,
   "id": "4023b783",
   "metadata": {},
   "outputs": [],
   "source": [
    "# Step 3 -\n",
    "def get_gen_info(ic):\n",
    "    \"\"\"Receive a specific infocard & return general parsed info\"\"\"\n",
    "    id_nb = ic.small.get_text()"
   ]
  },
  {
   "cell_type": "markdown",
   "id": "812a328b",
   "metadata": {},
   "source": [
    "### Source"
   ]
  },
  {
   "cell_type": "code",
   "execution_count": null,
   "id": "0b584047",
   "metadata": {},
   "outputs": [],
   "source": [
    "# def scrape_general_page(base_url):\n",
    "#     \"\"\"Scrape the web page with general infos on all pokemon then if succeed, write a binary file for later use\n",
    "#     receive a URL - return request's result \"\"\"\n",
    "#     if not os.path.exists(file_name):\n",
    "#         result = requests.get(base_url + \"/pokedex/national\")\n",
    "#         assert result.status_code == 200, print(f'Attempt to retrieve web page failed - result code {result.status_code}')\n",
    "#         with open(file_name, 'wb') as f:\n",
    "#             pickle.dump(result, f)\n",
    "#     else:\n",
    "#         with open(file_name, 'rb') as f:\n",
    "#             result = pickle.load(f)\n",
    "#     return result\n",
    "\n",
    "\n",
    "# def create_bs4_object(result):\n",
    "#     \"\"\"Receive a request's result & return a created bs4 object for parsing infos\"\"\"\n",
    "#     return BeautifulSoup(result.content, 'html5lib')\n",
    "\n",
    "\n",
    "def get_gen_infos(ic):\n",
    "    \"\"\"Receive a specific infocard & return general infos parsed\"\"\"\n",
    "    id_nb = ic.small.get_text()\n",
    "    name = ic.find_all('a')[0].get_text()\n",
    "    link = ic.find_all('a')[0]['href']\n",
    "\n",
    "    types_list = ic.find_all('a')\n",
    "    if len(types_list) == 2:  # case of only 1 type - because include the name\n",
    "        type_1, type_2 = ic.find_all('a')[1].get_text(), 'Nan'\n",
    "    elif len(types_list) == 3:\n",
    "        type_1, type_2 = ic.find_all('a')[1].get_text(), ic.find_all('a')[2].get_text()\n",
    "\n",
    "    return id_nb, name, type_1, type_2, link\n",
    "\n",
    "\n",
    "def get_stats(soup):\n",
    "    data_species = soup.find(\"th\", text=\"Species\").next_sibling.next_sibling.string\n",
    "    data_height = soup.find(\"th\", text=\"Height\").next_sibling.next_sibling.string.split()[0]\n",
    "    data_weight = soup.find(\"th\", text=\"Weight\").next_sibling.next_sibling.string.split()[0]\n",
    "    data_abilities = soup.find(\"th\", text=\"Abilities\").next_sibling.next_sibling.a.text\n",
    "    training_catch_rate = soup.find(\"th\", text=\"Catch rate\").next_sibling.next_sibling.text.split()[0]\n",
    "    training_base_exp = soup.find(\"th\", text=\"Base Exp.\").next_sibling.next_sibling.text\n",
    "    training_growth_rate = soup.find(\"th\", text=\"Growth Rate\").next_sibling.next_sibling.text\n",
    "    breeding_gender = soup.find(\"th\", text=\"Gender\").next_sibling.next_sibling.text\n",
    "    stats_hp = soup.find(\"th\", text=\"HP\").next_sibling.next_sibling.text\n",
    "    stats_attack = soup.find(\"th\", text=\"Attack\").next_sibling.next_sibling.text\n",
    "    stats_defense = soup.find(\"th\", text=\"Defense\").next_sibling.next_sibling.text\n",
    "    stats_sp_atk = soup.find(\"th\", text=\"Sp. Atk\").next_sibling.next_sibling.text\n",
    "    stats_sp_def = soup.find(\"th\", text=\"Sp. Def\").next_sibling.next_sibling.text\n",
    "    stats_speed = soup.find(\"th\", text=\"Speed\").next_sibling.next_sibling.text\n",
    "    stats_total = soup.find(\"th\", text=\"Total\").next_sibling.next_sibling.text\n",
    "    return data_species, data_height, data_weight, data_abilities, training_catch_rate, training_base_exp, \\\n",
    "           training_growth_rate, breeding_gender, stats_hp, stats_attack, stats_defense, stats_sp_atk, stats_sp_def, \\\n",
    "           stats_speed, stats_total\n",
    "\n",
    "\n",
    "def parse_infocards(soup, pokemon_infos):\n",
    "    \"\"\"Receive the bs4 object of the main page, parse all infocards and call others func to retrieve infos\n",
    "    Return a coma separated string of the whole db\"\"\"\n",
    "\n",
    "    # get a list of all infocards\n",
    "    infocards = soup.find_all(\"span\", class_=\"infocard-lg-data text-muted\")\n",
    "\n",
    "    # write headers / columns' names\n",
    "    with open('pokemon_db.csv', 'w') as f:\n",
    "        f.write(pokemon_infos)\n",
    "\n",
    "    # write infos line by line\n",
    "    with open('pokemon_db.csv', 'a') as f:\n",
    "        for ic in infocards:\n",
    "            gen_infos_list = list(get_gen_infos(ic))\n",
    "            ic_infos = \"\\n\" + \";\".join(gen_infos_list)\n",
    "\n",
    "            # request for linked page to get specific stats\n",
    "            r = requests.get(BASE_URL + gen_infos_list[-1])\n",
    "            if r.status_code != 200:\n",
    "                ic_infos += \";Nan\" * (len(pokemon_infos) - len(gen_infos_list))\n",
    "            else:\n",
    "                other_soup = BeautifulSoup(r.content, 'html5lib')\n",
    "                stats = list(get_stats(other_soup))\n",
    "                ic_infos += \";\" + \";\".join(stats)\n",
    "\n",
    "            f.writelines(ic_infos)\n",
    "\n",
    "\n",
    "def main():\n",
    "    result = scrape_general_page(BASE_URL)\n",
    "    soup = create_bs4_object(result)\n",
    "\n",
    "    pokemon_infos = \"\"\"id_nb;name;type_1;type_2;link;data_species;data_height;data_weight;data_abilities;training_catch_rate;\n",
    "    training_base_exp;training_growth_rate; breeding_gender;stats_hp;stats_attack;stats_defense; stats_sp_atk;stats_sp_def;\n",
    "    stats_speed;stats_total;\"\"\"\n",
    "\n",
    "    parse_infocards(soup, pokemon_infos)\n",
    "\n",
    "\n",
    "if __name__ == \"__main__\":\n",
    "    main()"
   ]
  },
  {
   "cell_type": "code",
   "execution_count": null,
   "id": "504dd9f9",
   "metadata": {},
   "outputs": [],
   "source": []
  }
 ],
 "metadata": {
  "interpreter": {
   "hash": "40d3a090f54c6569ab1632332b64b2c03c39dcf918b08424e98f38b5ae0af88f"
  },
  "kernelspec": {
   "display_name": "Python 3 (ipykernel)",
   "language": "python",
   "name": "python3"
  },
  "language_info": {
   "codemirror_mode": {
    "name": "ipython",
    "version": 3
   },
   "file_extension": ".py",
   "mimetype": "text/x-python",
   "name": "python",
   "nbconvert_exporter": "python",
   "pygments_lexer": "ipython3",
   "version": "3.8.2"
  }
 },
 "nbformat": 4,
 "nbformat_minor": 5
}
