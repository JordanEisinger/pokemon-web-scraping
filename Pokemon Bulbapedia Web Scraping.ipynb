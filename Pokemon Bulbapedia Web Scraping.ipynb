{
 "cells": [
  {
   "cell_type": "markdown",
   "metadata": {},
   "source": [
    "---"
   ]
  },
  {
   "cell_type": "markdown",
   "metadata": {},
   "source": [
    "### Initial Setup and Package Import"
   ]
  },
  {
   "cell_type": "code",
   "execution_count": null,
   "metadata": {},
   "outputs": [],
   "source": [
    "# Used to acquire and process HTML pages\n",
    "import requests\n",
    "from bs4 import BeautifulSoup\n",
    "import re\n",
    "\n",
    "# Used to store data and perform operations\n",
    "import pandas as pd\n",
    "import numpy as np"
   ]
  },
  {
   "cell_type": "markdown",
   "metadata": {},
   "source": [
    "### Constants"
   ]
  },
  {
   "cell_type": "code",
   "execution_count": null,
   "metadata": {},
   "outputs": [],
   "source": [
    "# Constants\n",
    "NUM_POKEMON = 1\n",
    "START_URL = \"http://bulbapedia.bulbagarden.net/wiki/Bulbasaur_(Pok%C3%A9mon)\""
   ]
  },
  {
   "cell_type": "markdown",
   "metadata": {},
   "source": [
    "### Define Functions"
   ]
  },
  {
   "cell_type": "code",
   "execution_count": null,
   "metadata": {},
   "outputs": [],
   "source": [
    "#\n",
    "def getName():\n",
    "    pokemon_name = soup.find('big').find_next('b').text\n",
    "    return pokemon_name\n",
    "\n",
    "#\n",
    "def getAbilities():\n",
    "    abilities_table = soup.find(\n",
    "        'a', {'title': 'Ability'}).parent.find_next('table')\n",
    "    abilities = abilities_table.find_all(\n",
    "        'td', {'style': lambda x: x != 'display: none'})\n",
    "    return [ability.find('span').text for ability in abilities]\n",
    "\n",
    "#\n",
    "def get_next_pokemon_url():\n",
    "    next_pokemon_url_table = soup.find_all('td', style='text-align: left')\n",
    "    next_pokemon_url = \"https://bulbapedia.bulbagarden.net\" + \\\n",
    "        next_pokemon_url_table[0].find('a', href=True)['href']\n",
    "    return next_pokemon_url\n",
    "\n",
    "#\n",
    "def get_evolves_into_or_from(tofrom):\n",
    "    global current_url\n",
    "    if 'Eevee' in current_url and tofrom == 'into':\n",
    "        evolution_table = soup.find(\n",
    "            'span', {'id': 'Evolution'}).parent.find_next('table')\n",
    " \n",
    "        names = evolution_table.find_all(\n",
    "            'a', {'title': re.compile('.*\\(Pokémon\\)')})\n",
    "        evolves_data = []\n",
    "        for name in names:\n",
    "            evolves_data.append(name.text)\n",
    "        return evolves_data\n",
    " \n",
    "    evolution_p = soup.find('div', {'id': 'bodyContent'}).find_all('p')[1]\n",
    "    for a in evolution_p('a'):\n",
    "        a.replace_with_children()\n",
    "    evolution_text = evolution_p.text\n",
    "    evolves_data = []\n",
    " \n",
    "    for evolves in evolution_text.split('evolves {} '.format(tofrom))[1:]:\n",
    "        evolves_data.append(evolves.split(' ')[0].rstrip())\n",
    "    if tofrom == 'from' and 'final form of' in evolution_text:\n",
    "        evolves_data = [evolution_text.split(\n",
    "            'final form of ')[-1][:-2]] + evolves_data\n",
    "    return evolves_data"
   ]
  },
  {
   "cell_type": "markdown",
   "metadata": {},
   "source": [
    "### Generate Panda Series"
   ]
  },
  {
   "cell_type": "code",
   "execution_count": null,
   "metadata": {},
   "outputs": [],
   "source": [
    "#\n",
    "def generateSeries():\n",
    "    series = pd.Series(\n",
    "        data=[\n",
    "            getName(),\n",
    "            getAbilities()\n",
    "        ],\n",
    "        index=[\n",
    "            'name',\n",
    "            'abilities'\n",
    "        ])\n",
    "    return series"
   ]
  },
  {
   "cell_type": "markdown",
   "metadata": {},
   "source": [
    "### Create DataFrame"
   ]
  },
  {
   "cell_type": "code",
   "execution_count": null,
   "metadata": {},
   "outputs": [],
   "source": [
    "#\n",
    "def generateDF(pokemon_count):\n",
    "    global soup, current_url\n",
    "    df = pd.DataFrame()\n",
    "    current_url = START_URL\n",
    "    current_index = 1\n",
    "    \n",
    "    while current_index <= current_index:\n",
    "        page = requests.get(current_url)\n",
    "        soup = BeautifulSoup(page.content, 'html.parser')\n",
    "        \n",
    "        series = generateSeries()\n",
    "        df = df.append(series,ignore_index = True)\n",
    "        \n",
    "        current_index += 1\n",
    "        current_url = get_next_pokemon_url()\n",
    "        \n",
    "    df.set_index('pokedex_number', inplace=True)\n",
    "    df.index = df.index.astype('int64')\n",
    "    df.index.name = 'pokedex_number'\n",
    "    df = set_column_dtypes(df)\n",
    " \n",
    "    # Pokemon's tiny image doesn't appear on its own page, but the next or\n",
    "    # previous page, so roll this column back by 1 to set them correctly\n",
    "    df.tiny_image_url = np.roll(df.tiny_image_url, -1)\n",
    " \n",
    "    return df\n",
    " \n",
    "df = generateDF(NUM_POKEMON)\n",
    "df.to_pickle(\"./pokemon_dataframe.pkl\")"
   ]
  }
 ],
 "metadata": {
  "kernelspec": {
   "display_name": "Python 3",
   "language": "python",
   "name": "python3"
  },
  "language_info": {
   "codemirror_mode": {
    "name": "ipython",
    "version": 3
   },
   "file_extension": ".py",
   "mimetype": "text/x-python",
   "name": "python",
   "nbconvert_exporter": "python",
   "pygments_lexer": "ipython3",
   "version": "3.8.5"
  }
 },
 "nbformat": 4,
 "nbformat_minor": 4
}
